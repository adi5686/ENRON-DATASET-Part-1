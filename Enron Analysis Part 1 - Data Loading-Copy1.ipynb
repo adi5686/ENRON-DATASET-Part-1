{
 "cells": [
  {
   "cell_type": "markdown",
   "metadata": {},
   "source": [
    "# Enron Email Dataset Analysis - Part 1"
   ]
  },
  {
   "cell_type": "markdown",
   "metadata": {},
   "source": [
    "### Importing Libraries"
   ]
  },
  {
   "cell_type": "code",
   "execution_count": 162,
   "metadata": {},
   "outputs": [],
   "source": [
    "import os\n",
    "import pandas as pd\n",
    "from email.parser import Parser\n",
    "from datetime import datetime as dt\n",
    "import matplotlib.pyplot as plt\n",
    "%matplotlib inline\n",
    "import seaborn as sns\n",
    "import re\n",
    "import nltk\n",
    "from nltk import sent_tokenize as ST\n",
    "from nltk import word_tokenize as WT\n",
    "from nltk.stem import PorterStemmer as PS\n",
    "from nltk.stem import WordNetLemmatizer as WNL\n",
    "from nltk.corpus import stopwords"
   ]
  },
  {
   "cell_type": "markdown",
   "metadata": {},
   "source": [
    "### Defining the root folders"
   ]
  },
  {
   "cell_type": "code",
   "execution_count": 3,
   "metadata": {},
   "outputs": [],
   "source": [
    "root_folder = 'E:\\\\Python Projects\\\\Enron\\\\Dataset\\\\enron_mail_20150507\\\\maildir\\\\'\n",
    "path = \"E:\\\\Python Projects\\\\Enron\\\\Dataset\\\\enron_mail_20150507\\\\maildir\\\\allen-p\\\\_sent_mail\\\\1\""
   ]
  },
  {
   "cell_type": "code",
   "execution_count": 4,
   "metadata": {},
   "outputs": [],
   "source": [
    "# Defining empty lists for storing paths to all mails and list of all employees\n",
    "mail_list = []\n",
    "emp_list = []"
   ]
  },
  {
   "cell_type": "markdown",
   "metadata": {},
   "source": [
    "#### A quick look at the database and we can see there are multiple folders and equally large number of sub folders  with a lot of email data inside each. \n",
    "We will try to automate the process and generate two lists here :\n",
    "    1. a list of all root folders.\n",
    "    2. a list of path to all email files so that it can be read later on and fed in to a dataframe."
   ]
  },
  {
   "cell_type": "code",
   "execution_count": 5,
   "metadata": {},
   "outputs": [],
   "source": [
    "for r, d, f in os.walk(root_folder):\n",
    "    for file in f:\n",
    "        mail_list.append(os.path.join(r,file))"
   ]
  },
  {
   "cell_type": "code",
   "execution_count": 6,
   "metadata": {},
   "outputs": [
    {
     "name": "stdout",
     "output_type": "stream",
     "text": [
      "Total emails found :  517401\n",
      "A sample of the path to emails found is as : \n",
      " E:\\Python Projects\\Enron\\Dataset\\enron_mail_20150507\\maildir\\allen-p\\all_documents\\1\n"
     ]
    }
   ],
   "source": [
    "# there are a total of 517401 emails combined.\n",
    "print('Total emails found : ' , len(mail_list))\n",
    "print('A sample of the path to emails found is as : \\n', mail_list[0])"
   ]
  },
  {
   "cell_type": "code",
   "execution_count": null,
   "metadata": {},
   "outputs": [],
   "source": []
  },
  {
   "cell_type": "code",
   "execution_count": 7,
   "metadata": {},
   "outputs": [],
   "source": [
    "# similarly, we can have a list of all employees whose emails have been put into the dataset. Following for loop will create\n",
    "# a list of various lists. We will need the first list from it.\n",
    "for r, d, f in os.walk(\"E:\\\\Python Projects\\\\Enron\\\\Dataset\\\\enron_mail_20150507\\\\maildir\"):\n",
    "    emp_list.append(d)"
   ]
  },
  {
   "cell_type": "code",
   "execution_count": 8,
   "metadata": {},
   "outputs": [
    {
     "name": "stdout",
     "output_type": "stream",
     "text": [
      "Names of the first five employees : ['allen-p', 'arnold-j', 'arora-h', 'badeer-r', 'bailey-s']\n"
     ]
    }
   ],
   "source": [
    "# the first list has 150 enetries, which means we have 150 employees. There names can be printed as shown.\n",
    "print('Names of the first five employees :', emp_list[0][0:5])"
   ]
  },
  {
   "cell_type": "code",
   "execution_count": null,
   "metadata": {},
   "outputs": [],
   "source": []
  },
  {
   "cell_type": "markdown",
   "metadata": {},
   "source": [
    "### Defining empty DF for storing the content of emails"
   ]
  },
  {
   "cell_type": "code",
   "execution_count": 15,
   "metadata": {},
   "outputs": [
    {
     "data": {
      "text/html": [
       "<div>\n",
       "<style scoped>\n",
       "    .dataframe tbody tr th:only-of-type {\n",
       "        vertical-align: middle;\n",
       "    }\n",
       "\n",
       "    .dataframe tbody tr th {\n",
       "        vertical-align: top;\n",
       "    }\n",
       "\n",
       "    .dataframe thead th {\n",
       "        text-align: right;\n",
       "    }\n",
       "</style>\n",
       "<table border=\"1\" class=\"dataframe\">\n",
       "  <thead>\n",
       "    <tr style=\"text-align: right;\">\n",
       "      <th></th>\n",
       "      <th>Path</th>\n",
       "      <th>Message_ID</th>\n",
       "      <th>From</th>\n",
       "      <th>To</th>\n",
       "      <th>Subject</th>\n",
       "      <th>Time/Date</th>\n",
       "      <th>Message_Body</th>\n",
       "    </tr>\n",
       "  </thead>\n",
       "  <tbody>\n",
       "  </tbody>\n",
       "</table>\n",
       "</div>"
      ],
      "text/plain": [
       "Empty DataFrame\n",
       "Columns: [Path, Message_ID, From, To, Subject, Time/Date, Message_Body]\n",
       "Index: []"
      ]
     },
     "execution_count": 15,
     "metadata": {},
     "output_type": "execute_result"
    }
   ],
   "source": [
    "df_email_details = pd.DataFrame(columns = ['Path', 'Message_ID', 'From','To','Subject','Time/Date','Message_Body'])\n",
    "df_email_details"
   ]
  },
  {
   "cell_type": "code",
   "execution_count": 16,
   "metadata": {},
   "outputs": [],
   "source": [
    "for p in mail_list[0:500]:\n",
    "    with open(p, \"r\") as f:\n",
    "            data = f.read()\n",
    "            email = Parser().parsestr(data)\n",
    "            df_email_details = df_email_details.append({'Path': p,\n",
    "                                                        'Message_ID': email['Message-ID'], \n",
    "                                                        'From' : email['from'],\n",
    "                                                        'To': email['to'],\n",
    "                                                        'Subject': email['Subject'],\n",
    "                                                        'Time/Date' : email['date'],\n",
    "                                                        'Message_Body': email.get_payload()}, ignore_index = True)"
   ]
  },
  {
   "cell_type": "code",
   "execution_count": 227,
   "metadata": {},
   "outputs": [
    {
     "data": {
      "text/html": [
       "<div>\n",
       "<style scoped>\n",
       "    .dataframe tbody tr th:only-of-type {\n",
       "        vertical-align: middle;\n",
       "    }\n",
       "\n",
       "    .dataframe tbody tr th {\n",
       "        vertical-align: top;\n",
       "    }\n",
       "\n",
       "    .dataframe thead th {\n",
       "        text-align: right;\n",
       "    }\n",
       "</style>\n",
       "<table border=\"1\" class=\"dataframe\">\n",
       "  <thead>\n",
       "    <tr style=\"text-align: right;\">\n",
       "      <th></th>\n",
       "      <th>Path</th>\n",
       "      <th>Message_ID</th>\n",
       "      <th>From</th>\n",
       "      <th>To</th>\n",
       "      <th>Subject</th>\n",
       "      <th>Time/Date</th>\n",
       "      <th>Message_Body</th>\n",
       "      <th>Weekday</th>\n",
       "      <th>Time and Date</th>\n",
       "    </tr>\n",
       "  </thead>\n",
       "  <tbody>\n",
       "    <tr>\n",
       "      <th>0</th>\n",
       "      <td>E:\\Python Projects\\Enron\\Dataset\\enron_mail_20...</td>\n",
       "      <td>&lt;29790972.1075855665306.JavaMail.evans@thyme&gt;</td>\n",
       "      <td>1.11913372.-2@multexinvestornetwork.com</td>\n",
       "      <td>pallen@enron.com</td>\n",
       "      <td>December 14, 2000 - Bear Stearns' predictions ...</td>\n",
       "      <td>Wed, 13 Dec 2000 18:41:00 -0800 (PST)</td>\n",
       "      <td>In today's Daily Update you'll find free repor...</td>\n",
       "      <td>Wed</td>\n",
       "      <td>2000-12-13 18:41:00</td>\n",
       "    </tr>\n",
       "    <tr>\n",
       "      <th>1</th>\n",
       "      <td>E:\\Python Projects\\Enron\\Dataset\\enron_mail_20...</td>\n",
       "      <td>&lt;21975671.1075855665520.JavaMail.evans@thyme&gt;</td>\n",
       "      <td>messenger@ecm.bloomberg.com</td>\n",
       "      <td>None</td>\n",
       "      <td>Bloomberg Power Lines Report</td>\n",
       "      <td>Wed, 13 Dec 2000 08:35:00 -0800 (PST)</td>\n",
       "      <td>Here is today's copy of Bloomberg Power Lines....</td>\n",
       "      <td>Wed</td>\n",
       "      <td>2000-12-13 08:35:00</td>\n",
       "    </tr>\n",
       "    <tr>\n",
       "      <th>2</th>\n",
       "      <td>E:\\Python Projects\\Enron\\Dataset\\enron_mail_20...</td>\n",
       "      <td>&lt;7452188.1075855667684.JavaMail.evans@thyme&gt;</td>\n",
       "      <td>phillip.allen@enron.com</td>\n",
       "      <td>keith.holst@enron.com</td>\n",
       "      <td>Consolidated positions: Issues &amp; To Do list</td>\n",
       "      <td>Mon, 9 Oct 2000 07:16:00 -0700 (PDT)</td>\n",
       "      <td>---------------------- Forwarded by Phillip K ...</td>\n",
       "      <td>Mon</td>\n",
       "      <td>2000-10-09 07:16:00</td>\n",
       "    </tr>\n",
       "    <tr>\n",
       "      <th>3</th>\n",
       "      <td>E:\\Python Projects\\Enron\\Dataset\\enron_mail_20...</td>\n",
       "      <td>&lt;23790115.1075855667708.JavaMail.evans@thyme&gt;</td>\n",
       "      <td>phillip.allen@enron.com</td>\n",
       "      <td>keith.holst@enron.com</td>\n",
       "      <td>Consolidated positions: Issues &amp; To Do list</td>\n",
       "      <td>Mon, 9 Oct 2000 07:00:00 -0700 (PDT)</td>\n",
       "      <td>---------------------- Forwarded by Phillip K ...</td>\n",
       "      <td>Mon</td>\n",
       "      <td>2000-10-09 07:00:00</td>\n",
       "    </tr>\n",
       "  </tbody>\n",
       "</table>\n",
       "</div>"
      ],
      "text/plain": [
       "                                                Path  \\\n",
       "0  E:\\Python Projects\\Enron\\Dataset\\enron_mail_20...   \n",
       "1  E:\\Python Projects\\Enron\\Dataset\\enron_mail_20...   \n",
       "2  E:\\Python Projects\\Enron\\Dataset\\enron_mail_20...   \n",
       "3  E:\\Python Projects\\Enron\\Dataset\\enron_mail_20...   \n",
       "\n",
       "                                      Message_ID  \\\n",
       "0  <29790972.1075855665306.JavaMail.evans@thyme>   \n",
       "1  <21975671.1075855665520.JavaMail.evans@thyme>   \n",
       "2   <7452188.1075855667684.JavaMail.evans@thyme>   \n",
       "3  <23790115.1075855667708.JavaMail.evans@thyme>   \n",
       "\n",
       "                                      From                     To  \\\n",
       "0  1.11913372.-2@multexinvestornetwork.com       pallen@enron.com   \n",
       "1              messenger@ecm.bloomberg.com                   None   \n",
       "2                  phillip.allen@enron.com  keith.holst@enron.com   \n",
       "3                  phillip.allen@enron.com  keith.holst@enron.com   \n",
       "\n",
       "                                             Subject  \\\n",
       "0  December 14, 2000 - Bear Stearns' predictions ...   \n",
       "1                       Bloomberg Power Lines Report   \n",
       "2        Consolidated positions: Issues & To Do list   \n",
       "3        Consolidated positions: Issues & To Do list   \n",
       "\n",
       "                               Time/Date  \\\n",
       "0  Wed, 13 Dec 2000 18:41:00 -0800 (PST)   \n",
       "1  Wed, 13 Dec 2000 08:35:00 -0800 (PST)   \n",
       "2   Mon, 9 Oct 2000 07:16:00 -0700 (PDT)   \n",
       "3   Mon, 9 Oct 2000 07:00:00 -0700 (PDT)   \n",
       "\n",
       "                                        Message_Body Weekday  \\\n",
       "0  In today's Daily Update you'll find free repor...     Wed   \n",
       "1  Here is today's copy of Bloomberg Power Lines....     Wed   \n",
       "2  ---------------------- Forwarded by Phillip K ...     Mon   \n",
       "3  ---------------------- Forwarded by Phillip K ...     Mon   \n",
       "\n",
       "        Time and Date  \n",
       "0 2000-12-13 18:41:00  \n",
       "1 2000-12-13 08:35:00  \n",
       "2 2000-10-09 07:16:00  \n",
       "3 2000-10-09 07:00:00  "
      ]
     },
     "execution_count": 227,
     "metadata": {},
     "output_type": "execute_result"
    }
   ],
   "source": [
    "df_email_details.head(4)"
   ]
  },
  {
   "cell_type": "code",
   "execution_count": 18,
   "metadata": {},
   "outputs": [],
   "source": [
    "# we need to convert the date/time column into a python datetime format column.\n",
    "# creating lists for the same\n",
    "weekday_list = []\n",
    "time_date = []"
   ]
  },
  {
   "cell_type": "code",
   "execution_count": 19,
   "metadata": {},
   "outputs": [],
   "source": [
    "# First 3 letters in the current single entry in the dataframe column of date/time has the weekday mentioned.\n",
    "for i,day in enumerate(df_email_details['Time/Date']):\n",
    "    weekday_list.append(day[0:3])\n",
    "    time_date.append(day[5:])"
   ]
  },
  {
   "cell_type": "code",
   "execution_count": 20,
   "metadata": {},
   "outputs": [],
   "source": [
    "# Since the dates in the current form are without 0 padding in the prefix, we need to correct it to be able to use datetime python library functins on it.\n",
    "for i,d in enumerate(time_date):\n",
    "    if len(d)<32:\n",
    "        time_date[i]='0'+time_date[i]\n",
    "        "
   ]
  },
  {
   "cell_type": "code",
   "execution_count": 21,
   "metadata": {},
   "outputs": [],
   "source": [
    "# Applying the datetime conversion\n",
    "for i,d in enumerate(time_date):\n",
    "    time_date[i]=dt.strptime(d[:-12], '%d %b %Y %H:%M:%S')\n",
    "    #time_date[i]=dt(int(d[:2]),x[])"
   ]
  },
  {
   "cell_type": "code",
   "execution_count": 22,
   "metadata": {},
   "outputs": [],
   "source": [
    "# insertig the lists into the dataframe as new columns\n",
    "df_email_details['Weekday'] = weekday_list"
   ]
  },
  {
   "cell_type": "code",
   "execution_count": 23,
   "metadata": {},
   "outputs": [],
   "source": [
    "df_email_details['Time and Date'] = time_date"
   ]
  },
  {
   "cell_type": "code",
   "execution_count": 24,
   "metadata": {},
   "outputs": [
    {
     "data": {
      "text/html": [
       "<div>\n",
       "<style scoped>\n",
       "    .dataframe tbody tr th:only-of-type {\n",
       "        vertical-align: middle;\n",
       "    }\n",
       "\n",
       "    .dataframe tbody tr th {\n",
       "        vertical-align: top;\n",
       "    }\n",
       "\n",
       "    .dataframe thead th {\n",
       "        text-align: right;\n",
       "    }\n",
       "</style>\n",
       "<table border=\"1\" class=\"dataframe\">\n",
       "  <thead>\n",
       "    <tr style=\"text-align: right;\">\n",
       "      <th></th>\n",
       "      <th>Path</th>\n",
       "      <th>Message_ID</th>\n",
       "      <th>From</th>\n",
       "      <th>To</th>\n",
       "      <th>Subject</th>\n",
       "      <th>Time/Date</th>\n",
       "      <th>Message_Body</th>\n",
       "      <th>Weekday</th>\n",
       "      <th>Time and Date</th>\n",
       "    </tr>\n",
       "  </thead>\n",
       "  <tbody>\n",
       "    <tr>\n",
       "      <th>0</th>\n",
       "      <td>E:\\Python Projects\\Enron\\Dataset\\enron_mail_20...</td>\n",
       "      <td>&lt;29790972.1075855665306.JavaMail.evans@thyme&gt;</td>\n",
       "      <td>1.11913372.-2@multexinvestornetwork.com</td>\n",
       "      <td>pallen@enron.com</td>\n",
       "      <td>December 14, 2000 - Bear Stearns' predictions ...</td>\n",
       "      <td>Wed, 13 Dec 2000 18:41:00 -0800 (PST)</td>\n",
       "      <td>In today's Daily Update you'll find free repor...</td>\n",
       "      <td>Wed</td>\n",
       "      <td>2000-12-13 18:41:00</td>\n",
       "    </tr>\n",
       "    <tr>\n",
       "      <th>1</th>\n",
       "      <td>E:\\Python Projects\\Enron\\Dataset\\enron_mail_20...</td>\n",
       "      <td>&lt;21975671.1075855665520.JavaMail.evans@thyme&gt;</td>\n",
       "      <td>messenger@ecm.bloomberg.com</td>\n",
       "      <td>None</td>\n",
       "      <td>Bloomberg Power Lines Report</td>\n",
       "      <td>Wed, 13 Dec 2000 08:35:00 -0800 (PST)</td>\n",
       "      <td>Here is today's copy of Bloomberg Power Lines....</td>\n",
       "      <td>Wed</td>\n",
       "      <td>2000-12-13 08:35:00</td>\n",
       "    </tr>\n",
       "  </tbody>\n",
       "</table>\n",
       "</div>"
      ],
      "text/plain": [
       "                                                Path  \\\n",
       "0  E:\\Python Projects\\Enron\\Dataset\\enron_mail_20...   \n",
       "1  E:\\Python Projects\\Enron\\Dataset\\enron_mail_20...   \n",
       "\n",
       "                                      Message_ID  \\\n",
       "0  <29790972.1075855665306.JavaMail.evans@thyme>   \n",
       "1  <21975671.1075855665520.JavaMail.evans@thyme>   \n",
       "\n",
       "                                      From                To  \\\n",
       "0  1.11913372.-2@multexinvestornetwork.com  pallen@enron.com   \n",
       "1              messenger@ecm.bloomberg.com              None   \n",
       "\n",
       "                                             Subject  \\\n",
       "0  December 14, 2000 - Bear Stearns' predictions ...   \n",
       "1                       Bloomberg Power Lines Report   \n",
       "\n",
       "                               Time/Date  \\\n",
       "0  Wed, 13 Dec 2000 18:41:00 -0800 (PST)   \n",
       "1  Wed, 13 Dec 2000 08:35:00 -0800 (PST)   \n",
       "\n",
       "                                        Message_Body Weekday  \\\n",
       "0  In today's Daily Update you'll find free repor...     Wed   \n",
       "1  Here is today's copy of Bloomberg Power Lines....     Wed   \n",
       "\n",
       "        Time and Date  \n",
       "0 2000-12-13 18:41:00  \n",
       "1 2000-12-13 08:35:00  "
      ]
     },
     "execution_count": 24,
     "metadata": {},
     "output_type": "execute_result"
    }
   ],
   "source": [
    "df_email_details.head(2)"
   ]
  },
  {
   "cell_type": "markdown",
   "metadata": {},
   "source": []
  },
  {
   "cell_type": "code",
   "execution_count": null,
   "metadata": {},
   "outputs": [],
   "source": []
  },
  {
   "cell_type": "markdown",
   "metadata": {},
   "source": [
    "# Data Analysis"
   ]
  },
  {
   "cell_type": "code",
   "execution_count": 38,
   "metadata": {},
   "outputs": [
    {
     "data": {
      "text/plain": [
       "<matplotlib.axes._subplots.AxesSubplot at 0x19e5a188>"
      ]
     },
     "execution_count": 38,
     "metadata": {},
     "output_type": "execute_result"
    },
    {
     "data": {
      "image/png": "[encoded data removed]",
      "text/plain": [
       "<Figure size 432x288 with 1 Axes>"
      ]
     },
     "metadata": {
      "needs_background": "light"
     },
     "output_type": "display_data"
    }
   ],
   "source": [
    "# Plotting some graphs\n",
    "# trend of count of emails exchanged over a week\n",
    "sns.countplot(x='Weekday',\n",
    "             data = df_email_details,\n",
    "             palette = 'hot')"
   ]
  },
  {
   "cell_type": "code",
   "execution_count": null,
   "metadata": {},
   "outputs": [],
   "source": []
  },
  {
   "cell_type": "code",
   "execution_count": null,
   "metadata": {},
   "outputs": [],
   "source": []
  },
  {
   "cell_type": "code",
   "execution_count": null,
   "metadata": {},
   "outputs": [],
   "source": []
  }
 ],
 "metadata": {
  "kernelspec": {
   "display_name": "Python 3",
   "language": "python",
   "name": "python3"
  },
  "language_info": {
   "codemirror_mode": {
    "name": "ipython",
    "version": 3
   },
   "file_extension": ".py",
   "mimetype": "text/x-python",
   "name": "python",
   "nbconvert_exporter": "python",
   "pygments_lexer": "ipython3",
   "version": "3.7.7"
  }
 },
 "nbformat": 4,
 "nbformat_minor": 4
}
